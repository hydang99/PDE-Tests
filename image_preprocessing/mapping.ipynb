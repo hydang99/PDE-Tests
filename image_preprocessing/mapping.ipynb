{
 "cells": [
  {
   "cell_type": "markdown",
   "metadata": {
    "toc": true
   },
   "source": [
    "<h1>Table of Contents<span class=\"tocSkip\"></span></h1>\n",
    "<div class=\"toc\"><ul class=\"toc-item\"><li><span><a href=\"#Utils---Methods\" data-toc-modified-id=\"Utils---Methods-1\"><span class=\"toc-item-num\">1&nbsp;&nbsp;</span>Utils - Methods</a></span></li><li><span><a href=\"#Analyzation\" data-toc-modified-id=\"Analyzation-2\"><span class=\"toc-item-num\">2&nbsp;&nbsp;</span>Analyzation</a></span></li></ul></div>"
   ]
  },
  {
   "cell_type": "markdown",
   "metadata": {},
   "source": [
    "# Utils - Methods "
   ]
  },
  {
   "cell_type": "markdown",
   "metadata": {},
   "source": [
    "We only want to consider two labelled images due to the simplicity of color and domains. In this case we just need to analyze three labels (wound, skin, and the background):\n",
    "- OpenCV is used to work with the images \n",
    "- Convert the image colors to labelled colors pixels "
   ]
  },
  {
   "cell_type": "code",
   "execution_count": 2,
   "metadata": {},
   "outputs": [],
   "source": [
    "import cv2\n",
    "import numpy \n",
    "import sklearn \n",
    "import matplotlib.pyplot as plt \n",
    "from skimage import measure\n",
    "import matplotlib.pyplot as plt\n",
    "from skimage import data, color\n",
    "from skimage.transform import rescale, resize, downscale_local_mean\n",
    "from scipy.ndimage import zoom\n",
    "from tqdm.notebook import tqdm"
   ]
  },
  {
   "cell_type": "code",
   "execution_count": 3,
   "metadata": {
    "code_folding": [
     71
    ]
   },
   "outputs": [],
   "source": [
    "#Reading the images by numpy\n",
    "\"\"\"\n",
    "Input: The path to images (list of paths)\n",
    "Output: List of images which were converted to array\n",
    "\"\"\"\n",
    "def read_img(img_path):\n",
    "    res = {}\n",
    "    for img in tqdm(img_path): \n",
    "        print(\"Woking on image with path {}\".format(img))\n",
    "        res[img] = cv2.imread(img)\n",
    "    return res\n",
    "\n",
    "\n",
    "\"\"\"\n",
    "Input: List of images which were converted to array\n",
    "Output: List of images which are converted to grayscale\n",
    "\"\"\"\n",
    "def gray_scale(images):\n",
    "    res = {}\n",
    "    for key in tqdm(images.keys()):\n",
    "        res[key] = cv2.cvtColor(images[key],cv2.COLOR_RGB2GRAY)\n",
    "    return res\n",
    "\n",
    "\n",
    "\"\"\"\n",
    "Input: List of images which were converted to grayscale\n",
    "Output: List of images which are converted to labels\n",
    "\"\"\"\n",
    "def convert_label(gray_imgs):\n",
    "    res = {}\n",
    "    for key in tqdm(gray_imgs.keys()):\n",
    "        res_img = np.zeros((gray_imgs[key].shape[0],gray_imgs[key].shape[1]),dtype =\"uint8\")\n",
    "        for i in tqdm(range(gray_imgs[key].shape[0])):\n",
    "            for j in range(gray_imgs[key].shape[1]):\n",
    "                if(gray_imgs[key][i,j] == 255):\n",
    "                    res_img[i,j] = int(0) #if the pixel is background\n",
    "                elif(gray_imgs[key][i,j] == 128):\n",
    "                    res_img[i,j] = int(1) #if the pixel is skin\n",
    "                elif(gray_imgs[key][i,j] == 55):\n",
    "                    res_img[i,j] = int(2) #if the pixel is the wound\n",
    "                elif(gray_imgs[key][i,j] == 33):\n",
    "                    res_img[i,j] = int(0) #if the pixel is background\n",
    "        res[key] = res_img\n",
    "    return res         \n",
    "\n",
    "\n",
    "\"\"\"\n",
    "Input: List of images which are converted to labels\n",
    "Output: Return center of mass of the wound\n",
    "\"\"\"\n",
    "def com(imgs):\n",
    "    com = {}\n",
    "    for key in tqdm(imgs.keys()):\n",
    "        props = measure.regionprops(np.array(imgs[key])) #get the centroid of each image\n",
    "        com[key] = props[1].centroid #store the centroids of images to a dict\n",
    "        print(\"The center of mass of the wound in image {} is: {}\".format(key,com[key]))\n",
    "    return com\n",
    "\n",
    "\n",
    "\"\"\"\n",
    "Input: Center of Mass of the Wound in each images\n",
    "Output: Boxes of Mass of the Wound, width (com-width/8,com+width/8)\n",
    "        length (com-length/8,com+length/8)\n",
    "\"\"\"\n",
    "def centroid_sq(com,imgs): \n",
    "    square = {}\n",
    "    for key in tqdm(com.keys()):\n",
    "        width = imgs[key].shape[0]\n",
    "        length = imgs[key].shape[1]\n",
    "        img = imgs[key]\n",
    "        centroid = com[key]\n",
    "        square[key] = img[int(centroid[0]-width/8):int(centroid[0] + width/8),\n",
    "                                int(centroid[1]-length/8):int(centroid[1] + length/8)]\n",
    "        print(\"The images {} has a small windows with shape:{}\".format(key,square[key].shape))\n",
    "    return square\n",
    "\n",
    "\"\"\"\n",
    "Input: windows = centroid_sq(com,imgs), res_labels, com_res\n",
    "Output: Two frame with same size \n",
    "\"\"\"\n",
    "def mapping_com(windows,res_labels,com_res):\n",
    "    origin_key = list(res_labels.keys())[0]\n",
    "    other_key = list(res_labels.keys())[1]\n",
    "    origin = res_labels[list(res_labels.keys())[0]]\n",
    "    print(\"The origin image is {}\".format(origin_key))\n",
    "    window = windows[other_key]\n",
    "    lower_x = int(com_res[origin_key][0]-window.shape[0]/2)\n",
    "    lower_y = int(com_res[origin_key][1]-window.shape[1]/2)\n",
    "    upper_x = int(com_res[origin_key][0]+window.shape[0]/2)\n",
    "    upper_y = int(com_res[origin_key][1]+window.shape[1]/2)\n",
    "    print(\"The lower_x is {}, the upper_x is {}, the lower_y is {}, the upper_y is {}\".format(lower_x,upper_x,lower_y,upper_y))\n",
    "    print(\"Getting the small windows of the origin image\")\n",
    "    origin = origin[lower_x:upper_x,lower_y:upper_y]\n",
    "    return origin,window\n",
    "\n",
    "\"\"\"\n",
    "Input: Images that need to rotate and original image\n",
    "Output: Rotation Matrix \n",
    "\"\"\"\n",
    "def rotateImage(image, angle):\n",
    "    (h,w) = image.shape[:2]\n",
    "    center = (w/2,h/2)\n",
    "    M = cv2.getRotationMatrix2D(center,angle,1.0)\n",
    "    rotated_image = cv2.warpAffine(image, M, (w,h))\n",
    "    return rotated_image\n",
    "\n",
    "\"\"\"\n",
    "Note: Trying the case where consider the dot product\n",
    "Input: 2 images, steps of increasing step\n",
    "Output: Maximum Angle with the maximum rotation between two frames\n",
    "\"\"\"\n",
    "def rotation_param(ori,img,step_size = 5):\n",
    "    res = {}\n",
    "    angle = 0\n",
    "    while (angle <= 360):\n",
    "        res[angle] = np.sum(np.multiply(ori,rotateImage(img,angle)))/(np.linalg.norm(ori)*np.linalg.norm(img))\n",
    "        angle+= step_size\n",
    "    return max(res, key=res.get)\n",
    "\n",
    "\"\"\"\n",
    "Note: Trying the case where consider the match value of wound\n",
    "Input: 2 images, steps of increasing step\n",
    "Output: Maximum Angle with the maximum rotation between two frames\n",
    "\"\"\"\n",
    "def match_angle(ori,img,step_size = 5):\n",
    "    res = {}\n",
    "    num_match = 0\n",
    "    angle = 0\n",
    "    while (angle <=360):\n",
    "        img_rt = rotateImage(img,angle)\n",
    "        for row in range(img.shape[0]):\n",
    "            for col in range(img.shape[1]):\n",
    "                if(img_rt[row,col] == origin[row,col]):\n",
    "                    num_match+=1\n",
    "        res[angle] = num_match\n",
    "        num_match = 0\n",
    "        angle += step_size \n",
    "    return max(res,key=res.get)\n",
    "\"\"\"\n",
    "Input: Images that need to zoom\n",
    "Output: Zoom Matrix \n",
    "\"\"\"\n",
    "def clipped_zoom(img, zoom_factor):\n",
    "\n",
    "    h, w = img.shape[:2]\n",
    "    zoom_tuple = (zoom_factor,) * 2 + (1,) * (img.ndim - 2)\n",
    "\n",
    "    # Zooming out\n",
    "    if zoom_factor < 1:\n",
    "\n",
    "        # Bounding box of the zoomed-out image within the output array\n",
    "        zh = int(np.round(h * zoom_factor))\n",
    "        zw = int(np.round(w * zoom_factor))\n",
    "        top = (h - zh) // 2\n",
    "        left = (w - zw) // 2\n",
    "\n",
    "        # Zero-padding\n",
    "        out = np.zeros_like(img)\n",
    "        out[top:top+zh, left:left+zw] = zoom(img, zoom_tuple)\n",
    "\n",
    "    # Zooming in\n",
    "    elif zoom_factor > 1:\n",
    "\n",
    "        # Bounding box of the zoomed-in region within the input array\n",
    "        zh = int(np.round(h / zoom_factor))\n",
    "        zw = int(np.round(w / zoom_factor))\n",
    "        top = (h - zh) // 2\n",
    "        left = (w - zw) // 2\n",
    "\n",
    "        out = zoom(img[top:top+zh, left:left+zw], zoom_tuple)\n",
    "\n",
    "        # `out` might still be slightly larger than `img` due to rounding, so\n",
    "        # trim off any extra pixels at the edges\n",
    "        trim_top = ((out.shape[0] - h) // 2)\n",
    "        trim_left = ((out.shape[1] - w) // 2)\n",
    "        out = out[trim_top:trim_top+h, trim_left:trim_left+w]\n",
    "\n",
    "    # If zoom_factor == 1, just return the input array\n",
    "    else:\n",
    "        out = img\n",
    "    return out\n",
    "\n",
    "def match_zoom(ori,img,step_size = 0.1):\n",
    "    res = {}\n",
    "    num_match = 0\n",
    "    scale = 0.1\n",
    "    while (clipped_zoom(img,scale).shape == ori.shape):\n",
    "        img_rt = clipped_zoom(img,scale)\n",
    "        for row in range(img.shape[0]):\n",
    "            for col in range(img.shape[1]):\n",
    "                if(img_rt[row,col] == origin[row,col]):\n",
    "                    num_match+=1\n",
    "        res[scale] = num_match\n",
    "        num_match = 0\n",
    "        scale += step_size \n",
    "    return max(res,key=res.get)\n",
    "\n",
    "    "
   ]
  },
  {
   "cell_type": "markdown",
   "metadata": {},
   "source": [
    "# Analyzation"
   ]
  },
  {
   "cell_type": "markdown",
   "metadata": {},
   "source": [
    "For analysis, it is easier when we consider gray scale of images then convert the images to different labels (3 labels representing background, skin, wound). \n",
    "- imgs: reading the images by cv2\n",
    "- grays: converting images to grayscale\n",
    "- res_labels: converting the images to labels \n",
    "- com_res: getting the center of mass of images\n",
    "- square: getting the small windows of images\n",
    "\n",
    "Sequence of finding the angle between two image: \n",
    "- 1. Reading the images and put into dictionary\n",
    "- 2. Converting the images into grayscale \n",
    "- 3. Converting the images into labels (0,1,2)\n",
    "- 4. Getting the center of mass of the wounds \n",
    "- 5. Getting the small windows of the images \n",
    "- 6. Map the center of mass between two images \n",
    "- 7. Consider matched pixels\n",
    "- 8. Rotate the image with the calculated angle \n",
    "- 9. Considering zoom two an image \n",
    "- 10. Consider matched pixels\n",
    "- 11. Return tuples (angle, rotation)\n"
   ]
  },
  {
   "cell_type": "code",
   "execution_count": 14,
   "metadata": {},
   "outputs": [],
   "source": [
    "\"\"\"\n",
    "Necessary Variables: \n",
    "IMG_PATH: List of images path\n",
    "JUST NEED TO INPUT THE PATH TO IMAGES\n",
    "\"\"\"\n",
    "IMG_PATH = {\"6.png\",\"8.png\"}"
   ]
  },
  {
   "cell_type": "code",
   "execution_count": 6,
   "metadata": {
    "code_folding": [
     2,
     8
    ]
   },
   "outputs": [
    {
     "data": {
      "application/vnd.jupyter.widget-view+json": {
       "model_id": "5899d7b4e96a45318b50d3fe64ee0931",
       "version_major": 2,
       "version_minor": 0
      },
      "text/plain": [
       "HBox(children=(FloatProgress(value=0.0, max=2.0), HTML(value='')))"
      ]
     },
     "metadata": {},
     "output_type": "display_data"
    },
    {
     "name": "stdout",
     "output_type": "stream",
     "text": [
      "Woking on image with path 8.png\n",
      "Woking on image with path 6.png\n",
      "\n",
      "------------------------\n",
      "The shape of image 8.png is (768, 1024, 3)\n",
      "The shape of image 6.png is (768, 1024, 3)\n",
      "------------------------\n",
      "Converting to gray scale\n"
     ]
    },
    {
     "data": {
      "application/vnd.jupyter.widget-view+json": {
       "model_id": "7b99667e32e1414bb70da26580843a14",
       "version_major": 2,
       "version_minor": 0
      },
      "text/plain": [
       "HBox(children=(FloatProgress(value=0.0, max=2.0), HTML(value='')))"
      ]
     },
     "metadata": {},
     "output_type": "display_data"
    },
    {
     "name": "stdout",
     "output_type": "stream",
     "text": [
      "\n",
      "The shape of image 8.png is (768, 1024, 3)\n",
      "The shape of image 6.png is (768, 1024, 3)\n",
      "------------------------\n",
      "Converting gray scale to labels\n"
     ]
    },
    {
     "data": {
      "application/vnd.jupyter.widget-view+json": {
       "model_id": "7caaa77f07e84ee1b480bdc535ad8d26",
       "version_major": 2,
       "version_minor": 0
      },
      "text/plain": [
       "HBox(children=(FloatProgress(value=0.0, max=2.0), HTML(value='')))"
      ]
     },
     "metadata": {},
     "output_type": "display_data"
    },
    {
     "data": {
      "application/vnd.jupyter.widget-view+json": {
       "model_id": "5d4dda7d13d742fbb33e740606f5422f",
       "version_major": 2,
       "version_minor": 0
      },
      "text/plain": [
       "HBox(children=(FloatProgress(value=0.0, max=768.0), HTML(value='')))"
      ]
     },
     "metadata": {},
     "output_type": "display_data"
    },
    {
     "name": "stdout",
     "output_type": "stream",
     "text": [
      "\n"
     ]
    },
    {
     "data": {
      "application/vnd.jupyter.widget-view+json": {
       "model_id": "32260a0f1fa343a6ad9b791894057850",
       "version_major": 2,
       "version_minor": 0
      },
      "text/plain": [
       "HBox(children=(FloatProgress(value=0.0, max=768.0), HTML(value='')))"
      ]
     },
     "metadata": {},
     "output_type": "display_data"
    },
    {
     "name": "stdout",
     "output_type": "stream",
     "text": [
      "\n",
      "\n",
      "Finished converting gray scale to labels\n",
      "------------------------\n",
      "Getting the center of mass of the images\n"
     ]
    },
    {
     "data": {
      "application/vnd.jupyter.widget-view+json": {
       "model_id": "b764a08e91514650b7a396e389b6eeca",
       "version_major": 2,
       "version_minor": 0
      },
      "text/plain": [
       "HBox(children=(FloatProgress(value=0.0, max=2.0), HTML(value='')))"
      ]
     },
     "metadata": {},
     "output_type": "display_data"
    },
    {
     "name": "stdout",
     "output_type": "stream",
     "text": [
      "The center of mass of the wound in image 8.png is: (394.4274647313056, 502.2333034330914)\n",
      "The center of mass of the wound in image 6.png is: (375.20123753867307, 307.6773117909935)\n",
      "\n",
      "Finished getting the center of mass\n",
      "------------------------\n",
      "Getting the small windows of images\n"
     ]
    },
    {
     "data": {
      "application/vnd.jupyter.widget-view+json": {
       "model_id": "4e8ab5eaaaad44bca816acdafd54c3b8",
       "version_major": 2,
       "version_minor": 0
      },
      "text/plain": [
       "HBox(children=(FloatProgress(value=0.0, max=2.0), HTML(value='')))"
      ]
     },
     "metadata": {},
     "output_type": "display_data"
    },
    {
     "name": "stdout",
     "output_type": "stream",
     "text": [
      "The images 8.png has a small windows with shape:(192, 256)\n",
      "The images 6.png has a small windows with shape:(192, 256)\n",
      "\n",
      "Finished getting the windows of images\n",
      "------------------------\n",
      "Getting the frame of images\n",
      "The origin image is 8.png\n",
      "The lower_x is 298, the upper_x is 490, the lower_y is 374, the upper_y is 630\n",
      "Getting the small windows of the origin image\n",
      "Finished getting the frames of images\n",
      "------------------------\n",
      "Getting the angle of rotation of images\n",
      "With Method 1 (Dot Product), the angle is 0\n",
      "With Method 2 (Pixels Match), the angle is 275\n",
      "------------------------\n",
      "Getting the zoom match of images\n",
      "The zoom scale of image is: 1.3\n",
      "The (angle, zoom) scale of 8.png compare to 8.png is: (275, 1.3)\n"
     ]
    }
   ],
   "source": [
    "imgs = read_img(IMG_PATH) #Read the images with the image path\n",
    "print(\"------------------------\")\n",
    "for key in imgs.keys(): #Loop through each image and print out the shape of image\n",
    "    print(\"The shape of image {} is {}\".format(key,imgs[key].shape))\n",
    "\n",
    "print(\"------------------------\")\n",
    "print(\"Converting to gray scale\")\n",
    "grays = gray_scale(imgs)\n",
    "for key in grays.keys(): #Loop through each image and print out the shape of image\n",
    "    print(\"The shape of image {} is {}\".format(key,imgs[key].shape))\n",
    "\n",
    "print(\"------------------------\")\n",
    "print(\"Converting gray scale to labels\")\n",
    "res_labels = convert_label(grays)\n",
    "print(\"Finished converting gray scale to labels\")\n",
    "\n",
    "print(\"------------------------\")\n",
    "print(\"Getting the center of mass of the images\")\n",
    "com_res = com(res_labels)\n",
    "print(\"Finished getting the center of mass\")\n",
    "\n",
    "print(\"------------------------\")\n",
    "print(\"Getting the small windows of images\")\n",
    "windows = centroid_sq(com_res,res_labels)\n",
    "print(\"Finished getting the windows of images\")\n",
    "\n",
    "\n",
    "print(\"------------------------\")\n",
    "print(\"Getting the frame of images\")\n",
    "origin, other = mapping_com(windows,res_labels,com_res)\n",
    "print(\"Finished getting the frames of images\")\n",
    "\n",
    "print(\"------------------------\")\n",
    "print(\"Getting the angle of rotation of images\")\n",
    "print(\"With Method 1 (Dot Product), the angle is {}\".format(rotation_param(origin,other,step_size = 5)))\n",
    "print(\"With Method 2 (Pixels Match), the angle is {}\".format(match_angle(origin,other,step_size = 5)))\n",
    "angle = match_angle(origin,other,step_size = 5)\n",
    "img_rotated = rotateImage(other,angle)\n",
    "\n",
    "print(\"------------------------\")\n",
    "print(\"Getting the zoom match of images\")\n",
    "zoom_scale = match_zoom(origin,img_rotated)\n",
    "\n",
    "print(\"The zoom scale of image is: {}\".format(zoom_scale))\n",
    "print(\"The (angle, zoom) scale of {} compare to {} is: {}\".format(next(iter(IMG_PATH)),next(iter(IMG_PATH)),(angle,zoom_scale)))"
   ]
  },
  {
   "cell_type": "code",
   "execution_count": 9,
   "metadata": {},
   "outputs": [
    {
     "data": {
      "text/plain": [
       "<matplotlib.image.AxesImage at 0x7fa97f91cd90>"
      ]
     },
     "execution_count": 9,
     "metadata": {},
     "output_type": "execute_result"
    },
    {
     "data": {
      "image/png": "[encoded data removed]",
      "text/plain": [
       "<Figure size 432x288 with 1 Axes>"
      ]
     },
     "metadata": {
      "needs_background": "light"
     },
     "output_type": "display_data"
    }
   ],
   "source": [
    "plt.imshow(clipped_zoom(img_rotated,1.3))\n"
   ]
  },
  {
   "cell_type": "code",
   "execution_count": 10,
   "metadata": {},
   "outputs": [
    {
     "data": {
      "text/plain": [
       "<matplotlib.image.AxesImage at 0x7fa9841cfee0>"
      ]
     },
     "execution_count": 10,
     "metadata": {},
     "output_type": "execute_result"
    },
    {
     "data": {
      "image/png": "[encoded data removed]",
      "text/plain": [
       "<Figure size 432x288 with 1 Axes>"
      ]
     },
     "metadata": {
      "needs_background": "light"
     },
     "output_type": "display_data"
    }
   ],
   "source": [
    "plt.imshow(origin)"
   ]
  },
  {
   "cell_type": "code",
   "execution_count": 13,
   "metadata": {},
   "outputs": [
    {
     "data": {
      "text/plain": [
       "<matplotlib.image.AxesImage at 0x7fa984bb0250>"
      ]
     },
     "execution_count": 13,
     "metadata": {},
     "output_type": "execute_result"
    },
    {
     "data": {
      "image/png": "[encoded data removed]",
      "text/plain": [
       "<Figure size 432x288 with 1 Axes>"
      ]
     },
     "metadata": {
      "needs_background": "light"
     },
     "output_type": "display_data"
    }
   ],
   "source": [
    "plt.imshow(clipped_zoom(img_rotated,1))"
   ]
  },
  {
   "cell_type": "code",
   "execution_count": 11,
   "metadata": {},
   "outputs": [
    {
     "data": {
      "text/plain": [
       "<matplotlib.image.AxesImage at 0x7fa984e779a0>"
      ]
     },
     "execution_count": 11,
     "metadata": {},
     "output_type": "execute_result"
    },
    {
     "data": {
      "image/png": "[encoded data removed]",
      "text/plain": [
       "<Figure size 432x288 with 1 Axes>"
      ]
     },
     "metadata": {
      "needs_background": "light"
     },
     "output_type": "display_data"
    }
   ],
   "source": [
    "plt.imshow(img_rotated)"
   ]
  },
  {
   "cell_type": "code",
   "execution_count": null,
   "metadata": {},
   "outputs": [],
   "source": []
  }
 ],
 "metadata": {
  "kernelspec": {
   "display_name": "Python 3",
   "language": "python",
   "name": "python3"
  },
  "language_info": {
   "codemirror_mode": {
    "name": "ipython",
    "version": 3
   },
   "file_extension": ".py",
   "mimetype": "text/x-python",
   "name": "python",
   "nbconvert_exporter": "python",
   "pygments_lexer": "ipython3",
   "version": "3.8.3"
  },
  "toc": {
   "base_numbering": 1,
   "nav_menu": {},
   "number_sections": true,
   "sideBar": true,
   "skip_h1_title": false,
   "title_cell": "Table of Contents",
   "title_sidebar": "Contents",
   "toc_cell": true,
   "toc_position": {},
   "toc_section_display": true,
   "toc_window_display": true
  },
  "varInspector": {
   "cols": {
    "lenName": 16,
    "lenType": 16,
    "lenVar": 40
   },
   "kernels_config": {
    "python": {
     "delete_cmd_postfix": "",
     "delete_cmd_prefix": "del ",
     "library": "var_list.py",
     "varRefreshCmd": "print(var_dic_list())"
    },
    "r": {
     "delete_cmd_postfix": ") ",
     "delete_cmd_prefix": "rm(",
     "library": "var_list.r",
     "varRefreshCmd": "cat(var_dic_list()) "
    }
   },
   "types_to_exclude": [
    "module",
    "function",
    "builtin_function_or_method",
    "instance",
    "_Feature"
   ],
   "window_display": false
  }
 },
 "nbformat": 4,
 "nbformat_minor": 4
}
