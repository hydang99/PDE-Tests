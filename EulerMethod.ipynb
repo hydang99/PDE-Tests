{
  "nbformat": 4,
  "nbformat_minor": 0,
  "metadata": {
    "colab": {
      "name": "EulerMethod.ipynb",
      "provenance": [],
      "collapsed_sections": [],
      "include_colab_link": true
    },
    "kernelspec": {
      "name": "python3",
      "display_name": "Python 3"
    }
  },
  "cells": [
    {
      "cell_type": "markdown",
      "metadata": {
        "id": "view-in-github",
        "colab_type": "text"
      },
      "source": [
        "<a href=\"https://colab.research.google.com/github/hydanggia/woundhealingproject/blob/master/EulerMethod.ipynb\" target=\"_parent\"><img src=\"https://colab.research.google.com/assets/colab-badge.svg\" alt=\"Open In Colab\"/></a>"
      ]
    },
    {
      "cell_type": "code",
      "metadata": {
        "id": "Jp_saQG3aSjL",
        "colab_type": "code",
        "colab": {
          "base_uri": "https://localhost:8080/",
          "height": 34
        },
        "outputId": "bfe4ace0-2553-4e4a-bf64-a2d7c263fac3"
      },
      "source": [
        "'''Mount Drive\n",
        "And Change Directory to Wound_Modelling'''\n",
        "from google.colab import drive\n",
        "drive.mount('/content/drive', force_remount=True)\n",
        "import os\n",
        "os.chdir('drive/My Drive/Research_Projects/Wound_Modelling')"
      ],
      "execution_count": 1,
      "outputs": [
        {
          "output_type": "stream",
          "text": [
            "Mounted at /content/drive\n"
          ],
          "name": "stdout"
        }
      ]
    },
    {
      "cell_type": "code",
      "metadata": {
        "id": "Ypj7QxiBdFcl",
        "colab_type": "code",
        "colab": {}
      },
      "source": [
        "#Import Libraries\n",
        "import matplotlib.pyplot as plt\n",
        "import numpy as np \n",
        "import pandas as pd\n",
        "import math\n"
      ],
      "execution_count": 0,
      "outputs": []
    },
    {
      "cell_type": "code",
      "metadata": {
        "id": "FSU6nY-dhSMF",
        "colab_type": "code",
        "colab": {}
      },
      "source": [
        "def function(t,y):\n",
        "  return (t+y+t*y) \n"
      ],
      "execution_count": 0,
      "outputs": []
    },
    {
      "cell_type": "code",
      "metadata": {
        "id": "lYjEgPHndHH_",
        "colab_type": "code",
        "colab": {}
      },
      "source": [
        "def EulerMethod(t_0,y_0,delta_t,end_interval):  #function return array of y and t\n",
        "  n = int((end_interval - t_0)//delta_t) #number of point\n",
        "  y = np.zeros([n])                      #Define pre-values of y\n",
        "  t = np.zeros([n])                      #Define pre-values of t\n",
        "  t[0] = t_0                             #t[0] is the value of t_0\n",
        "  y[0] = y_0                             #y[0] is the value of y_0\n",
        "  for i in range(1,n):                   #for-loop to calculate the approximation by Euler method\n",
        "    y[i] = delta_t * (function(t_0,y[i-1])) + y[i-1] #Using function y(n) = delta*t * derivative(t(n-1) and y(n-1)) + y(n-1)\n",
        "    t_0 = t_0 + delta_t\n",
        "    t[i] = t_0\n",
        "  #Plot the approximation\n",
        "  plt.plot(t,y,'-b')\n",
        "  plt.xlabel(\"Value of t\")\n",
        "  plt.ylabel(\"Value of y\")\n",
        "  plt.title(\"Approximate Solution With Euler's Method\")\n",
        "  plt.show()\n",
        "  return y,t\n"
      ],
      "execution_count": 0,
      "outputs": []
    },
    {
      "cell_type": "code",
      "metadata": {
        "id": "ETrMyhfSdkS4",
        "colab_type": "code",
        "colab": {
          "base_uri": "https://localhost:8080/",
          "height": 295
        },
        "outputId": "e2422d41-e2d2-4557-b388-0269169795af"
      },
      "source": [
        "y, t = EulerMethod(0,1,0.025,1) #test for t_0 = 0, y_0 = 1, delta_t = 0.025 and end_interval = 1\n"
      ],
      "execution_count": 5,
      "outputs": [
        {
          "output_type": "display_data",
          "data": {
            "image/png": "[encoded data removed]",
            "text/plain": [
              "<Figure size 432x288 with 1 Axes>"
            ]
          },
          "metadata": {
            "tags": []
          }
        }
      ]
    },
    {
      "cell_type": "code",
      "metadata": {
        "id": "eNHKzDQ8iTBU",
        "colab_type": "code",
        "colab": {}
      },
      "source": [
        ""
      ],
      "execution_count": 0,
      "outputs": []
    }
  ]
}