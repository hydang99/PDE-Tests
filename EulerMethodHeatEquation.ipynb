{
  "nbformat": 4,
  "nbformat_minor": 0,
  "metadata": {
    "colab": {
      "name": "EulerMethodHeatEquation.ipynb",
      "provenance": [],
      "collapsed_sections": [],
      "include_colab_link": true
    },
    "kernelspec": {
      "name": "python3",
      "display_name": "Python 3"
    }
  },
  "cells": [
    {
      "cell_type": "markdown",
      "metadata": {
        "id": "view-in-github",
        "colab_type": "text"
      },
      "source": [
        "<a href=\"https://colab.research.google.com/github/hydanggia/woundhealingproject/blob/master/EulerMethodHeatEquation.ipynb\" target=\"_parent\"><img src=\"https://colab.research.google.com/assets/colab-badge.svg\" alt=\"Open In Colab\"/></a>"
      ]
    },
    {
      "cell_type": "code",
      "metadata": {
        "id": "NO40IE5B9AR7",
        "colab_type": "code",
        "colab": {}
      },
      "source": [
        "def Eulersolver(I,L, dt,dx,dy, T):\n",
        "    #Parameters: \n",
        "    #L is the end interval of x \n",
        "    #Nt, Nx are the number of mesh points in time and in x\n",
        "    #T the stop time for simulation.\n",
        "    #I (the initial condition of u(0,x) = f(x))\n",
        "    #\n",
        "    \"\"\"\n",
        "    Simplest expression of the computational algorithm\n",
        "    using the Forward Euler method and explicit Python loops.\n",
        "    For this method F <= 0.5 for stability.\n",
        "    \"\"\"\n",
        "    \n",
        "    Nt = int(round(T/float(dt)))\n",
        "    t = np.linspace(0, Nt*dt, Nt+1)   # Mesh points in time\n",
        "    Nx = int(round(L/dx))\n",
        "    Ny = int(round(L/dy))\n",
        "    x = np.linspace(0, L, Nx+1)       # Mesh points in space\n",
        "    y = np.linspace(0, L, Ny+1) \n",
        "    # Make sure dx and dt are compatible with x and t\n",
        "    dy = y[1] - y[0]\n",
        "    dx = x[1] - x[0]\n",
        "    dt = t[1] - t[0]\n",
        "    X, Y = np.meshgrid(x, y)\n",
        "    u   = np.zeros((Nx+1,Ny+1))\n",
        "    u_n = np.zeros((Nx+1,Ny+1))\n",
        "    # Set initial condition u(x,0) = I(x)\n",
        "    for i in range(0,Nx+1):\n",
        "      for j in range(0, Ny+1):\n",
        "        u_n[i,j] = I(x[i],y[j])\n",
        "    for n in range(1, Nt):\n",
        "        # Compute u at inner mesh points\n",
        "        for i in range(1, Nx):\n",
        "          for j in range(1,Ny):\n",
        "            u[i,j] = u_n[i,j] + (dt/(dx**2))*(u_n[i-1,j] - 2*u_n[i,j] + u_n[i+1,j]) + \\\n",
        "             (dt/(dy**2))*(u_n[i,j-1] - 2*u_n[i,j] + u_n[i,j+1])\n",
        "        u_n = u.copy()\n",
        "    return u,Nx,Ny,Nt,X,Y  # u_n holds latest u\n",
        "\n"
      ],
      "execution_count": 0,
      "outputs": []
    }
  ]
}