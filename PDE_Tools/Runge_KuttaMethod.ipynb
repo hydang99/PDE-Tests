{
  "nbformat": 4,
  "nbformat_minor": 0,
  "metadata": {
    "colab": {
      "name": "Runge-KuttaMethod.ipynb",
      "provenance": [],
      "collapsed_sections": [],
      "include_colab_link": true
    },
    "kernelspec": {
      "name": "python3",
      "display_name": "Python 3"
    }
  },
  "cells": [
    {
      "cell_type": "markdown",
      "metadata": {
        "id": "view-in-github",
        "colab_type": "text"
      },
      "source": [
        "<a href=\"https://colab.research.google.com/github/hydanggia/woundhealingproject/blob/master/Runge_KuttaMethod.ipynb\" target=\"_parent\"><img src=\"https://colab.research.google.com/assets/colab-badge.svg\" alt=\"Open In Colab\"/></a>"
      ]
    },
    {
      "cell_type": "code",
      "metadata": {
        "id": "1q1gXDRgn70J",
        "colab_type": "code",
        "colab": {
          "base_uri": "https://localhost:8080/",
          "height": 34
        },
        "outputId": "518c31f6-fd7c-475a-a7c3-8056f531bfc8"
      },
      "source": [
        "'''Mount Drive\n",
        "And Change Directory to Wound_Modelling'''\n",
        "from google.colab import drive\n",
        "drive.mount('/content/drive', force_remount=True)\n",
        "import os\n",
        "os.chdir('drive/My Drive/Research_Projects/Wound_Modelling')"
      ],
      "execution_count": 1,
      "outputs": [
        {
          "output_type": "stream",
          "text": [
            "Mounted at /content/drive\n"
          ],
          "name": "stdout"
        }
      ]
    },
    {
      "cell_type": "code",
      "metadata": {
        "id": "4I5gXN8IoCoC",
        "colab_type": "code",
        "colab": {}
      },
      "source": [
        "#Import Libraries\n",
        "import matplotlib.pyplot as plt\n",
        "import numpy as np \n",
        "import pandas as pd\n",
        "import math"
      ],
      "execution_count": 0,
      "outputs": []
    },
    {
      "cell_type": "code",
      "metadata": {
        "id": "eMidyA7EoJsX",
        "colab_type": "code",
        "colab": {}
      },
      "source": [
        "def function(t,y):\n",
        "  return (t+y+t*y) "
      ],
      "execution_count": 0,
      "outputs": []
    },
    {
      "cell_type": "code",
      "metadata": {
        "id": "aIR9dHb1sI-X",
        "colab_type": "code",
        "colab": {}
      },
      "source": [
        "def RK2method(t_0,y_0,delta_t,end_interval):\n",
        "    n = int((end_interval - t_0)/delta_t) + 1 #number of point\n",
        "    y = np.zeros([n])                         #Define pre-values of y\n",
        "    t = np.zeros([n])                         #Define pre-values of t\n",
        "    t[0] = t_0                                #t[0] is the value of t_0\n",
        "    y[0] = y_0                                #y[0] is the value of y_0\n",
        "    for i in range(1,n):                      #for-loop to calculate the approximation by Runge Kutta\n",
        "      k1 = delta_t * function(t_0,y[i-1])\n",
        "      k2 = delta_t * function(t_0 + 0.5 * delta_t, y[i-1] + 0.5 * k1) \n",
        "      y[i] = y[i-1] + (k1+k2)/2 \n",
        "      t_0 = t_0 + delta_t\n",
        "      t[i] = t_0\n",
        "    #Plot the approximation\n",
        "    plt.plot(t,y,'-b')\n",
        "    plt.xlabel(\"Value of t\")\n",
        "    plt.ylabel(\"Value of y\")\n",
        "    plt.title(\"Approximate Solution With RK2's Method\")\n",
        "    plt.show()\n",
        "    return y,t"
      ],
      "execution_count": 0,
      "outputs": []
    },
    {
      "cell_type": "code",
      "metadata": {
        "id": "jWz4fbF5oLVX",
        "colab_type": "code",
        "colab": {}
      },
      "source": [
        "def RK4method(t_0,y_0,delta_t,end_interval):\n",
        "    n = int((end_interval - t_0)/delta_t) + 1 #number of point\n",
        "    y = np.zeros([n])                         #Define pre-values of y\n",
        "    t = np.zeros([n])                         #Define pre-values of t\n",
        "    t[0] = t_0                                #t[0] is the value of t_0\n",
        "    y[0] = y_0                                #y[0] is the value of y_0\n",
        "    for i in range(1,n):                      #for-loop to calculate the approximation by Runge Kutta\n",
        "      k1 = delta_t * function(t_0,y[i-1])\n",
        "      k2 = delta_t * function(t_0 + 0.5 * delta_t, y[i-1] + 0.5 * k1) \n",
        "      k3 = delta_t * function(t_0 + 0.5 * delta_t, y[i-1] + 0.5 * k2) \n",
        "      k4 = delta_t * function(t_0 + delta_t,y[i-1] + k3)\n",
        "      y[i] = y[i-1] + (1.0 / 6.0)*(k1 + 2 * k2 + 2 * k3 + k4) \n",
        "      t_0 = t_0 + delta_t\n",
        "      t[i] = t_0\n",
        "    #Plot the approximation\n",
        "    plt.plot(t,y,'-b')\n",
        "    plt.xlabel(\"Value of t\")\n",
        "    plt.ylabel(\"Value of y\")\n",
        "    plt.title(\"Approximate Solution With RK4's Method\")\n",
        "    plt.show()\n",
        "    return y,t"
      ],
      "execution_count": 0,
      "outputs": []
    },
    {
      "cell_type": "code",
      "metadata": {
        "id": "Lqy5PsjIpnqI",
        "colab_type": "code",
        "colab": {
          "base_uri": "https://localhost:8080/",
          "height": 573
        },
        "outputId": "8e50e89f-bd37-4233-cc80-59131c3d889c"
      },
      "source": [
        "y, t = RK2method(0,1,0.025,1) #test for t_0 = 0, y_0 = 1, delta_t = 0.025 and end_interval = 1\n",
        "y, t = RK4method(0,1,0.025,1) #test for t_0 = 0, y_0 = 1, delta_t = 0.025 and end_interval = 1\n"
      ],
      "execution_count": 6,
      "outputs": [
        {
          "output_type": "display_data",
          "data": {
            "image/png": "[encoded data removed]",
            "text/plain": [
              "<Figure size 432x288 with 1 Axes>"
            ]
          },
          "metadata": {
            "tags": []
          }
        },
        {
          "output_type": "display_data",
          "data": {
            "image/png": "[encoded data removed]",
            "text/plain": [
              "<Figure size 432x288 with 1 Axes>"
            ]
          },
          "metadata": {
            "tags": []
          }
        }
      ]
    },
    {
      "cell_type": "code",
      "metadata": {
        "id": "8O2mXi2wprMG",
        "colab_type": "code",
        "colab": {}
      },
      "source": [
        ""
      ],
      "execution_count": 0,
      "outputs": []
    }
  ]
}
