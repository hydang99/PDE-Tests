{
  "nbformat": 4,
  "nbformat_minor": 0,
  "metadata": {
    "colab": {
      "name": "ADIMethodHeatEquation.ipynb",
      "provenance": [],
      "include_colab_link": true
    },
    "kernelspec": {
      "name": "python3",
      "display_name": "Python 3"
    }
  },
  "cells": [
    {
      "cell_type": "markdown",
      "metadata": {
        "id": "view-in-github",
        "colab_type": "text"
      },
      "source": [
        "<a href=\"https://colab.research.google.com/github/hydanggia/woundhealingproject/blob/master/ADIMethodHeatEquation.ipynb\" target=\"_parent\"><img src=\"https://colab.research.google.com/assets/colab-badge.svg\" alt=\"Open In Colab\"/></a>"
      ]
    },
    {
      "cell_type": "code",
      "metadata": {
        "id": "knYzpR0780II",
        "colab_type": "code",
        "colab": {}
      },
      "source": [
        "import math\n",
        "import numpy as np\n",
        "def u_exact(x, y,t):\n",
        "        return math.sin(x)*math.sin(y)*math.e**((-2)*t)  # fulfills BC at x=0 and x=L\n",
        "def I(x,y):\n",
        "        return u_exact(x,y,0)\n",
        "def bc(x,y,t):\n",
        "        return u_exact(x,y,t)\n",
        "def f(x,y):\n",
        "        return math.sin(x)*math.sin(y)\n"
      ],
      "execution_count": 0,
      "outputs": []
    },
    {
      "cell_type": "code",
      "metadata": {
        "id": "o6El7NLo86AH",
        "colab_type": "code",
        "colab": {}
      },
      "source": [
        "import numpy as np\n",
        "from scipy import linalg\n",
        "def solver_ADI(I,f,bc,Lx,Ly,Nx,Ny,dt,T):\n",
        "  dx = Lx/float(Nx)\n",
        "  dy = Ly/float(Ny)\n",
        "  x = np.linspace(0,Lx,Nx+1) #Create points in direction of x\n",
        "  y = np.linspace(0,Ly,Ny+1) #Create points in direction of y\n",
        "  u = np.zeros((Nx+1,Ny+1),float) #Create Solution Array.\n",
        "  u_half = u.copy() #Create a solution at t + dt/2\n",
        "  u_last = u.copy() #Create a solution at t + dt\n",
        "\n",
        "  C_x = dt/dx**2 #Constant for equation in x part\n",
        "  C_y = dt/dy**2 #Constant for equation in y part\n",
        "\n",
        "  #Set initial condition: \n",
        "  t = 0.0\n",
        "  for i in range(0,Nx+1):\n",
        "    for j in range(0,Ny+1): \n",
        "      u[i,j] = I(x[i],y[j])\n",
        "\n",
        "  while t<= T:        #Create t<=T\n",
        "    t_last = t        #Set t_last = last t\n",
        "    t +=0.5*dt        #Set new t = t + 1/2dt\n",
        "    #Sweep in x direction\n",
        "    j = 0 #left boundary\n",
        "    for i in range(0,Nx+1):\n",
        "      u_half[i,j] = bc(x[i],y[j],t)\n",
        "    #Solve tridiagonal system for internal columns j\n",
        "    for j in range(0,Nx):\n",
        "      A = np.zeros(shape = (Nx+1,Nx+1))\n",
        "      b = np.zeros(Nx+1,float)\n",
        "      #First treat lower boundary for col j\n",
        "      i = 0\n",
        "      A[i,i] = 1 #First in diagonal\n",
        "      b[i] = bc(x[i],y[j],t)\n",
        "      #Run through inner points for col j\n",
        "      for i in range(1,Nx):\n",
        "        A[i,i-1] = -C_x\n",
        "        A[i,i] = 2 + 2*C_x\n",
        "        A[i,i+1] = -C_x\n",
        "        b[i] = 2*u[i,j] + C_y*(u[i,j-1] - 2*u[i,j]+u[i,j+1])\n",
        "        #Second treat upper boundary\n",
        "      i = Nx\n",
        "      A[i,i] = 1\n",
        "      b[i] = bc(x[i],y[j],t)\n",
        "        #Solve system x = A^(-1) * b\n",
        "      temp = linalg.solve(A,b)\n",
        "        #Insert sol into col j\n",
        "      for i in range(0,Nx+1):\n",
        "        u_half[i,j] = temp[i]\n",
        "    j = Ny #right boundary\n",
        "    for i in range(0,Nx+1):\n",
        "      u_half[i,j] = bc(x[i],y[j],t)\n",
        "    t_last = t\n",
        "    t +=0.5*dt\n",
        "    # Sweep in y direction\n",
        "    i = 0 #lower boundary\n",
        "    for j in range(0,Ny+1):\n",
        "      u_last[i,j] = bc(x[i],y[j],t)\n",
        "    #Solve tridiagonal system for internal row i\n",
        "    for i in range(1,Nx):\n",
        "      B = np.zeros(shape = (Ny+1,Ny+1))\n",
        "      c = np.zeros(Ny+1,float)\n",
        "      #First treat left boundary for row i\n",
        "      j = 0\n",
        "      B[j,j] = 1 #First in diagonal\n",
        "      c[j] = bc(x[i],y[j],t)\n",
        "      #Run through inner points for col j\n",
        "      for j in range(1,Ny):\n",
        "        B[j,j-1] = -C_y\n",
        "        B[j,j] = 2 + 2*C_y\n",
        "        B[j,j+1] = -C_y\n",
        "        c[j] = 2*u_half[i,j] + C_x*(u_half[i-1,j] - 2*u_half[i,j]+u_half[i+1,j]) \n",
        "        #Second treat right boundary\n",
        "      j = Ny\n",
        "      B[j,j] = 1\n",
        "      c[j] = bc(x[i],y[j],t)\n",
        "        #Solve system x = A^(-1) * b\n",
        "      temp = linalg.solve(A,c)\n",
        "        #Insert sol into col j\n",
        "      for j in range(0,Ny+1):\n",
        "        u_last[i,j] = temp[j]\n",
        "    i = Nx\n",
        "    for j in range(0,Ny+1):\n",
        "      u_last[i,j] = bc(x[i],y[j],t)   \n",
        "    u = u_last.copy()   \n",
        "  return u\n"
      ],
      "execution_count": 0,
      "outputs": []
    },
    {
      "cell_type": "code",
      "metadata": {
        "id": "pX7ayIuw86-C",
        "colab_type": "code",
        "colab": {}
      },
      "source": [
        ""
      ],
      "execution_count": 0,
      "outputs": []
    }
  ]
}